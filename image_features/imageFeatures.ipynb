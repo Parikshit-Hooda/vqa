{
 "cells": [
  {
   "cell_type": "code",
   "execution_count": 1,
   "metadata": {},
   "outputs": [
    {
     "name": "stderr",
     "output_type": "stream",
     "text": [
      "c:\\users\\vaibhav\\appdata\\local\\programs\\python\\python35\\lib\\site-packages\\h5py\\__init__.py:36: FutureWarning: Conversion of the second argument of issubdtype from `float` to `np.floating` is deprecated. In future, it will be treated as `np.float64 == np.dtype(float).type`.\n",
      "  from ._conv import register_converters as _register_converters\n",
      "Using TensorFlow backend.\n",
      "c:\\users\\vaibhav\\appdata\\local\\programs\\python\\python35\\lib\\site-packages\\tensorflow\\python\\framework\\dtypes.py:469: FutureWarning: Passing (type, 1) or '1type' as a synonym of type is deprecated; in a future version of numpy, it will be understood as (type, (1,)) / '(1,)type'.\n",
      "  _np_qint8 = np.dtype([(\"qint8\", np.int8, 1)])\n",
      "c:\\users\\vaibhav\\appdata\\local\\programs\\python\\python35\\lib\\site-packages\\tensorflow\\python\\framework\\dtypes.py:470: FutureWarning: Passing (type, 1) or '1type' as a synonym of type is deprecated; in a future version of numpy, it will be understood as (type, (1,)) / '(1,)type'.\n",
      "  _np_quint8 = np.dtype([(\"quint8\", np.uint8, 1)])\n",
      "c:\\users\\vaibhav\\appdata\\local\\programs\\python\\python35\\lib\\site-packages\\tensorflow\\python\\framework\\dtypes.py:471: FutureWarning: Passing (type, 1) or '1type' as a synonym of type is deprecated; in a future version of numpy, it will be understood as (type, (1,)) / '(1,)type'.\n",
      "  _np_qint16 = np.dtype([(\"qint16\", np.int16, 1)])\n",
      "c:\\users\\vaibhav\\appdata\\local\\programs\\python\\python35\\lib\\site-packages\\tensorflow\\python\\framework\\dtypes.py:472: FutureWarning: Passing (type, 1) or '1type' as a synonym of type is deprecated; in a future version of numpy, it will be understood as (type, (1,)) / '(1,)type'.\n",
      "  _np_quint16 = np.dtype([(\"quint16\", np.uint16, 1)])\n",
      "c:\\users\\vaibhav\\appdata\\local\\programs\\python\\python35\\lib\\site-packages\\tensorflow\\python\\framework\\dtypes.py:473: FutureWarning: Passing (type, 1) or '1type' as a synonym of type is deprecated; in a future version of numpy, it will be understood as (type, (1,)) / '(1,)type'.\n",
      "  _np_qint32 = np.dtype([(\"qint32\", np.int32, 1)])\n",
      "c:\\users\\vaibhav\\appdata\\local\\programs\\python\\python35\\lib\\site-packages\\tensorflow\\python\\framework\\dtypes.py:476: FutureWarning: Passing (type, 1) or '1type' as a synonym of type is deprecated; in a future version of numpy, it will be understood as (type, (1,)) / '(1,)type'.\n",
      "  np_resource = np.dtype([(\"resource\", np.ubyte, 1)])\n"
     ]
    }
   ],
   "source": [
    "import cv2\n",
    "from keras.utils import Sequence\n",
    "import numpy as np\n",
    "import pandas as pd\n",
    "import zipfile\n",
    "import sys\n",
    "sys.path.append('../')\n",
    "from model.model import vgg16Model"
   ]
  },
  {
   "cell_type": "code",
   "execution_count": 6,
   "metadata": {},
   "outputs": [],
   "source": [
    "#Skip files not present\n",
    "class My_Custom_Generator_Images(Sequence) :\n",
    "    def __init__(self,image_filenames, batch_size,type_of_data, archive) :\n",
    "        self.image_filenames = image_filenames\n",
    "        self.batch_size = batch_size\n",
    "        self.type_of_data = type_of_data\n",
    "        self.archive = archive\n",
    "        \n",
    "    def __len__(self) :\n",
    "        return (np.ceil(len(self.image_filenames) / float(self.batch_size))).astype(np.int)\n",
    "    \n",
    "    def __getitem__(self, idx) :\n",
    "        batch_x = self.image_filenames[idx * self.batch_size : (idx+1) * self.batch_size]\n",
    "        images_x = []\n",
    "        for counter, img in enumerate(batch_x):\n",
    "            try:\n",
    "                zeros = 12 - len(str(img))\n",
    "                if(self.type_of_data=='val'):\n",
    "                    file_name = 'COCO_val2014_' + '0'*zeros + str(img) + '.jpg'\n",
    "                    imgData = self.archive.read('val2014/' + file_name)\n",
    "                    im = cv2.imdecode(np.frombuffer(imgData, np.uint8), 1)\n",
    "                if(self.type_of_data=='train'):\n",
    "                    file_name = 'COCO_train2014_' + '0'*zeros + str(img) + '.jpg'\n",
    "                    imgData = self.archive.read('train2014/' + file_name)\n",
    "                    im = cv2.imdecode(np.frombuffer(imgData, np.uint8), 1)\n",
    "                im = cv2.resize(im, (224,224))\n",
    "                im = im/255.0\n",
    "                images_x.append(im)\n",
    "            except:\n",
    "                print(counter)\n",
    "                continue\n",
    "        return np.asarray(images_x)"
   ]
  },
  {
   "cell_type": "code",
   "execution_count": null,
   "metadata": {},
   "outputs": [],
   "source": [
    "def getImageFeatures(dataframe_path, images_path, column_name, type_of_data, model,batch_size=128):\n",
    "    df = pd.read_csv(dataframe_path)\n",
    "    archive = zipfile.ZipFile(images_path, 'r')\n",
    "    unique_values = df[column_name].unique()\n",
    "    generator = My_Custom_Generator_Images(unique_values, batch_size, type_of_data, archive)\n",
    "    predictions = model.predict_generator(generator, verbose = 1)\n",
    "    return unique_values, predictions"
   ]
  },
  {
   "cell_type": "code",
   "execution_count": null,
   "metadata": {},
   "outputs": [],
   "source": [
    "vgg16 = vgg16Model(1000)"
   ]
  },
  {
   "cell_type": "code",
   "execution_count": null,
   "metadata": {},
   "outputs": [],
   "source": [
    "values, predictions = getImageFeatures('../dataset/train_final.csv', '../../Dataset-Coco-V2/vqa_v2_images.zip', 'image_id', 'train', vgg16, 128)\n",
    "train_features = {}\n",
    "for i in range(len(values)):\n",
    "    train_features[values[i]] = predictions[i]\n",
    "values, predictions = getImageFeatures('../dataset/val_final.csv', '../../Dataset-Coco-V2/vqa_v2_validation_images.zip', 'image_id', 'val', vgg16, 128)\n",
    "val_features = {}\n",
    "for i in range(len(values)):\n",
    "    val_features[values[i]] = predictions[i]"
   ]
  }
 ],
 "metadata": {
  "kernelspec": {
   "display_name": "Python 3",
   "language": "python",
   "name": "python3"
  },
  "language_info": {
   "codemirror_mode": {
    "name": "ipython",
    "version": 3
   },
   "file_extension": ".py",
   "mimetype": "text/x-python",
   "name": "python",
   "nbconvert_exporter": "python",
   "pygments_lexer": "ipython3",
   "version": "3.5.0"
  }
 },
 "nbformat": 4,
 "nbformat_minor": 2
}
