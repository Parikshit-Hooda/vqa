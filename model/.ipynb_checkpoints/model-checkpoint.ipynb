{
 "cells": [
  {
   "cell_type": "code",
   "execution_count": 2,
   "metadata": {},
   "outputs": [],
   "source": [
    "from keras.models import Sequential\n",
    "import pandas as pd\n",
    "from keras.optimizers import Adam,SGD\n",
    "from keras.layers import Input, Add,Dense, Conv2D, MaxPooling2D, AveragePooling2D, ZeroPadding2D, Dropout, Flatten, merge, Reshape, Activation\n",
    "from sklearn.metrics import log_loss\n",
    "from keras.layers.normalization import BatchNormalization\n",
    "from keras.models import load_model,Model\n",
    "import h5py\n",
    "from keras.initializers import glorot_uniform\n",
    "from keras.applications.vgg16 import VGG16\n",
    "import cv2\n",
    "import numpy as np\n",
    "from keras.callbacks import Callback\n",
    "import matplotlib.pyplot as plt\n",
    "from sklearn.metrics import f1_score\n",
    "import glob"
   ]
  },
  {
   "cell_type": "code",
   "execution_count": 10,
   "metadata": {},
   "outputs": [],
   "source": [
    "def vgg16Model(numClasses):\n",
    "    #Freeze layers to non-trainable\n",
    "    model = VGG16(include_top=True, weights='imagenet', classes=numClasses)\n",
    "    ip = model.input\n",
    "    op = model.layers[-2].output\n",
    "    vgg16Model = Model(ip,op)\n",
    "    return vgg16Model"
   ]
  }
 ],
 "metadata": {
  "kernelspec": {
   "display_name": "Python 3",
   "language": "python",
   "name": "python3"
  },
  "language_info": {
   "codemirror_mode": {
    "name": "ipython",
    "version": 3
   },
   "file_extension": ".py",
   "mimetype": "text/x-python",
   "name": "python",
   "nbconvert_exporter": "python",
   "pygments_lexer": "ipython3",
   "version": "3.5.0"
  }
 },
 "nbformat": 4,
 "nbformat_minor": 2
}
