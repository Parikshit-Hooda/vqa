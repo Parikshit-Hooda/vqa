{
 "cells": [
  {
   "cell_type": "code",
   "execution_count": 1,
   "metadata": {},
   "outputs": [
    {
     "name": "stderr",
     "output_type": "stream",
     "text": [
      "Using TensorFlow backend.\n"
     ]
    }
   ],
   "source": [
    "import pandas as pd\n",
    "from collections import Counter\n",
    "import sys  \n",
    "sys.path.append('../')\n",
    "from utils.utils import removeApostrophe"
   ]
  },
  {
   "cell_type": "code",
   "execution_count": null,
   "metadata": {},
   "outputs": [],
   "source": [
    "df=pd.read_csv('../dataset/train.csv')\n",
    "arr = []\n",
    "hmap = df['multiple_choice_answer'].value_counts().to_dict()\n",
    "counter = Counter(hmap)\n",
    "key_value = counter.most_common(1000)\n",
    "for i in key_value:\n",
    "    arr.append(i[0])"
   ]
  },
  {
   "cell_type": "code",
   "execution_count": 6,
   "metadata": {},
   "outputs": [],
   "source": [
    "def reduce_to_1000_classes(ip_fname,op_fname):\n",
    "    global arr\n",
    "    df=pd.read_csv(ip_fname)\n",
    "    df_new=df[df['multiple_choice_answer'].isin(arr)]\n",
    "    df_new['questions'] = df_new['questions'].apply(removeApostrophe)\n",
    "    df_new.to_csv(op_fname,index=False)"
   ]
  },
  {
   "cell_type": "code",
   "execution_count": 101,
   "metadata": {},
   "outputs": [],
   "source": [
    "#train\n",
    "i_fname=\"../dataset/train.csv\"\n",
    "o_fname=\"../dataset/train_final.csv\"\n",
    "reduce_to_1000_classes(i_fname,o_fname)"
   ]
  },
  {
   "cell_type": "code",
   "execution_count": 105,
   "metadata": {},
   "outputs": [],
   "source": [
    "#validation\n",
    "i_fname=\"../dataset/val.csv\"\n",
    "o_fname=\"../dataset/val_final.csv\"\n",
    "reduce_to_1000_classes(i_fname,o_fname)"
   ]
  },
  {
   "cell_type": "code",
   "execution_count": null,
   "metadata": {},
   "outputs": [],
   "source": [
    "#test\n",
    "i_fname=\"../dataset/test.csv\"\n",
    "o_fname=\"../dataset/test_final.csv\"\n",
    "reduce_to_1000_classes(i_fname,o_fname)"
   ]
  }
 ],
 "metadata": {
  "kernelspec": {
   "display_name": "Python 3",
   "language": "python",
   "name": "python3"
  },
  "language_info": {
   "codemirror_mode": {
    "name": "ipython",
    "version": 3
   },
   "file_extension": ".py",
   "mimetype": "text/x-python",
   "name": "python",
   "nbconvert_exporter": "python",
   "pygments_lexer": "ipython3",
   "version": "3.5.0"
  }
 },
 "nbformat": 4,
 "nbformat_minor": 2
}
