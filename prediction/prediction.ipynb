{
 "cells": [
  {
   "cell_type": "code",
   "execution_count": 0,
   "metadata": {
    "colab": {},
    "colab_type": "code",
    "id": "y6FfkqIAoATV"
   },
   "outputs": [],
   "source": [
    "import cv2\n",
    "from keras.utils import Sequence\n",
    "import pandas as pd\n",
    "import sys\n",
    "sys.path.append('../')\n",
    "from model.model import vgg16Model, vqaModelBiLSTMFeatures\n",
    "from utils.utils import *\n",
    "from keras.models import model_from_json"
   ]
  },
  {
   "cell_type": "code",
   "execution_count": 0,
   "metadata": {
    "colab": {},
    "colab_type": "code",
    "id": "JyKrl7wqoATc"
   },
   "outputs": [],
   "source": [
    "def load_vqa_model(model_path, weight_path):\n",
    "    json_file = open(model_path, 'r')\n",
    "    loaded_model_json = json_file.read()\n",
    "    json_file.close()\n",
    "    loaded_model = model_from_json(loaded_model_json)\n",
    "    # load weights into new model\n",
    "    loaded_model.load_weights(weight_path)\n",
    "#     model = None\n",
    "#     if model_name == 'vqaModelBiLSTMFeatures':\n",
    "#         model = vqaModelBiLSTMFeatures(embedding_matrix, image_feature_dims=4096, trainable=False, num_classes=1000,embed_size=300, vocab_size=vocab_size, time_steps=20, unit_length=256, dropout=0.5)\n",
    "    return loaded_model"
   ]
  },
  {
   "cell_type": "code",
   "execution_count": 0,
   "metadata": {
    "colab": {},
    "colab_type": "code",
    "id": "HVrIyIDooATj"
   },
   "outputs": [],
   "source": [
    "def getImageFeatures(image, model):\n",
    "    im = cv2.resize(image, (224,224))\n",
    "    im = im.reshape((1,224,224,3))\n",
    "    im = im/255.0\n",
    "    features = model.predict(im)\n",
    "    return features"
   ]
  },
  {
   "cell_type": "code",
   "execution_count": 0,
   "metadata": {
    "colab": {},
    "colab_type": "code",
    "id": "BoAvymEJoATt"
   },
   "outputs": [],
   "source": [
    "def predictClass(question, image, time_steps):\n",
    "    global tokenizer, le, vgg16, vgaModel\n",
    "    image_features = getImageFeatures(image, vgg16)\n",
    "    question_sequence, question_padded = createEncodedPaddedText(tokenizer, question,time_steps=time_steps)\n",
    "    prediction = vqaModel.predict([np.asarray(question_padded), np.asarray(image_features)])\n",
    "    answer_class = prediction.argmax(axis=1)\n",
    "    answer = le.inverse_transform(answer_class)\n",
    "    return answer"
   ]
  },
  {
   "cell_type": "code",
   "execution_count": 0,
   "metadata": {
    "colab": {},
    "colab_type": "code",
    "id": "SeBCAPmToATf"
   },
   "outputs": [],
   "source": [
    "vgg16 = vgg16Model(1000)"
   ]
  },
  {
   "cell_type": "code",
   "execution_count": 9,
   "metadata": {
    "colab": {
     "base_uri": "https://localhost:8080/",
     "height": 125
    },
    "colab_type": "code",
    "executionInfo": {
     "elapsed": 3678,
     "status": "ok",
     "timestamp": 1570694804454,
     "user": {
      "displayName": "VAIBHAV GOYAL",
      "photoUrl": "https://lh3.googleusercontent.com/a-/AAuE7mDZ7drtZKozAMPR4tCYLATMeWyCXw7zarnF91-9=s64",
      "userId": "09106313311714801771"
     },
     "user_tz": -330
    },
    "id": "ojpuHw5RsmNd",
    "outputId": "64588933-6a68-4cc2-fb52-0e82ab7c909a"
   },
   "outputs": [
    {
     "name": "stdout",
     "output_type": "stream",
     "text": [
      "WARNING:tensorflow:From /usr/local/lib/python3.6/dist-packages/keras/backend/tensorflow_backend.py:148: The name tf.placeholder_with_default is deprecated. Please use tf.compat.v1.placeholder_with_default instead.\n",
      "\n",
      "WARNING:tensorflow:From /usr/local/lib/python3.6/dist-packages/keras/backend/tensorflow_backend.py:3733: calling dropout (from tensorflow.python.ops.nn_ops) with keep_prob is deprecated and will be removed in a future version.\n",
      "Instructions for updating:\n",
      "Please use `rate` instead of `keep_prob`. Rate should be set to `rate = 1 - keep_prob`.\n"
     ]
    }
   ],
   "source": [
    "vqaModel = load_vqa_model('../extras/vqaModelBiLSTMFeatures.json', '../weights/best_weights.h5')"
   ]
  },
  {
   "cell_type": "code",
   "execution_count": 0,
   "metadata": {
    "colab": {},
    "colab_type": "code",
    "id": "ykf1G7p1tSX2"
   },
   "outputs": [],
   "source": [
    "#Read tokenizer\n",
    "tokenizer = readFromPickle('../extras/', 'tokenizer')\n",
    "word_index = tokenizer.word_index\n",
    "#Read label encoder\n",
    "le = readFromPickle('../extras/', 'labelEncoder')"
   ]
  },
  {
   "cell_type": "code",
   "execution_count": 110,
   "metadata": {
    "colab": {
     "base_uri": "https://localhost:8080/",
     "height": 34
    },
    "colab_type": "code",
    "executionInfo": {
     "elapsed": 1553,
     "status": "ok",
     "timestamp": 1570697618590,
     "user": {
      "displayName": "VAIBHAV GOYAL",
      "photoUrl": "https://lh3.googleusercontent.com/a-/AAuE7mDZ7drtZKozAMPR4tCYLATMeWyCXw7zarnF91-9=s64",
      "userId": "09106313311714801771"
     },
     "user_tz": -330
    },
    "id": "Ug5mh-KA07di",
    "outputId": "d23011bf-31c3-4cc2-fd03-1efb3ec0e9ec"
   },
   "outputs": [
    {
     "data": {
      "text/plain": [
       "array(['white and blue'], dtype=object)"
      ]
     },
     "execution_count": 110,
     "metadata": {
      "tags": []
     },
     "output_type": "execute_result"
    }
   ],
   "source": [
    "image = cv2.imread('pizza.jpeg')\n",
    "predictClass(['what is the color of the pizza?'], image, 20)"
   ]
  },
  {
   "cell_type": "code",
   "execution_count": 0,
   "metadata": {
    "colab": {},
    "colab_type": "code",
    "id": "RfrQygqP1wJq"
   },
   "outputs": [],
   "source": []
  }
 ],
 "metadata": {
  "colab": {
   "name": "prediction.ipynb",
   "provenance": []
  },
  "kernelspec": {
   "display_name": "Python 3",
   "language": "python",
   "name": "python3"
  },
  "language_info": {
   "codemirror_mode": {
    "name": "ipython",
    "version": 3
   },
   "file_extension": ".py",
   "mimetype": "text/x-python",
   "name": "python",
   "nbconvert_exporter": "python",
   "pygments_lexer": "ipython3",
   "version": "3.5.0"
  }
 },
 "nbformat": 4,
 "nbformat_minor": 1
}
