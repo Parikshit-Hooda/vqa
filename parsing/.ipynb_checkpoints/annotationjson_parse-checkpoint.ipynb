{
 "cells": [
  {
   "cell_type": "code",
   "execution_count": 1,
   "metadata": {},
   "outputs": [],
   "source": [
    "import json\n",
    "import pandas as pd"
   ]
  },
  {
   "cell_type": "code",
   "execution_count": 1,
   "metadata": {},
   "outputs": [],
   "source": [
    "def anno_parse(input_fname,output_fname):\n",
    "    with open(input_fname) as f:\n",
    "        data = json.load(f)\n",
    "    lst=[]\n",
    "    for i in range(len(data[\"annotations\"])):\n",
    "        lst.append([data[\"annotations\"][i][\"question_id\"],data[\"annotations\"][i][\"image_id\"],data[\"annotations\"][i][\"question_type\"],data[\"annotations\"][i][\"answer_type\"],data[\"annotations\"][i][\"multiple_choice_answer\"]])\n",
    "    df=pd.DataFrame.from_records(lst)\n",
    "    df.columns = [\"question_id\",\"image_id\",\"question_type\",\"answer_type\",\"multiple_choice_answer\"]\n",
    "    df.to_csv(output_fname,index=False)"
   ]
  },
  {
   "cell_type": "code",
   "execution_count": null,
   "metadata": {},
   "outputs": [],
   "source": [
    "#Training\n",
    "in_fname='../dataset/v2_mscoco_train2014_annotations.json'\n",
    "op_fname='../dataset/anno_train.csv'\n",
    "anno_parse(ip_fname,op_fname)"
   ]
  },
  {
   "cell_type": "code",
   "execution_count": null,
   "metadata": {},
   "outputs": [],
   "source": [
    "#Validation\n",
    "in_fname='../dataset/v2_mscoco_val2014_annotations.json'\n",
    "op_fname='../dataset/anno_val.csv'\n",
    "anno_parse(ip_fname,op_fname)"
   ]
  },
  {
   "cell_type": "code",
   "execution_count": 10,
   "metadata": {},
   "outputs": [],
   "source": [
    "\"\"\"\n",
    "Testing\n",
    "df1=pd.read_csv(output_fname)\n",
    "print(df1.head())\n",
    "print(len(df1))\n",
    "\"\"\""
   ]
  }
 ],
 "metadata": {
  "kernelspec": {
   "display_name": "Python 3",
   "language": "python",
   "name": "python3"
  },
  "language_info": {
   "codemirror_mode": {
    "name": "ipython",
    "version": 3
   },
   "file_extension": ".py",
   "mimetype": "text/x-python",
   "name": "python",
   "nbconvert_exporter": "python",
   "pygments_lexer": "ipython3",
   "version": "3.5.0"
  }
 },
 "nbformat": 4,
 "nbformat_minor": 2
}
