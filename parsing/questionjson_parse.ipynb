{
 "cells": [
  {
   "cell_type": "code",
   "execution_count": 2,
   "metadata": {},
   "outputs": [],
   "source": [
    "import json\n",
    "import pandas as pd"
   ]
  },
  {
   "cell_type": "code",
   "execution_count": 3,
   "metadata": {},
   "outputs": [],
   "source": [
    "def ques_parse(input_fname,output_fname):\n",
    "    with open(input_fname) as f:\n",
    "        data = json.load(f)\n",
    "    lst=[]\n",
    "    for i in range(len(data[\"questions\"])):\n",
    "        lst.append([data[\"questions\"][i]['image_id'],data[\"questions\"][i]['question'],data[\"questions\"][i]['question_id']])\n",
    "    df=pd.DataFrame.from_records(lst)\n",
    "    df.columns = ['image_id','questions','question_id']\n",
    "    df.to_csv(output_fname,index=False)\n",
    "    "
   ]
  },
  {
   "cell_type": "code",
   "execution_count": 4,
   "metadata": {},
   "outputs": [],
   "source": [
    "\"\"\"\n",
    "Testing code\n",
    "df1=pd.read_csv(output_fname)\n",
    "print(df1.head())\n",
    "print(len(df1))\n",
    "\"\"\""
   ]
  },
  {
   "cell_type": "code",
   "execution_count": null,
   "metadata": {},
   "outputs": [],
   "source": [
    "#training\n",
    "ip_fname='../dataset/v2_OpenEnded_mscoco_train2014_questions.json'\n",
    "op_fname='../dataset/ques_train.csv'\n",
    "ques_parse(ip_fname,op_fname)"
   ]
  },
  {
   "cell_type": "code",
   "execution_count": null,
   "metadata": {},
   "outputs": [],
   "source": [
    "#validation\n",
    "ip_fname='../dataset/v2_OpenEnded_mscoco_val2014_questions.json'\n",
    "op_fname='../dataset/ques_val.csv'\n",
    "ques_parse(ip_fname,op_fname)"
   ]
  }
 ],
 "metadata": {
  "kernelspec": {
   "display_name": "Python 3",
   "language": "python",
   "name": "python3"
  },
  "language_info": {
   "codemirror_mode": {
    "name": "ipython",
    "version": 3
   },
   "file_extension": ".py",
   "mimetype": "text/x-python",
   "name": "python",
   "nbconvert_exporter": "python",
   "pygments_lexer": "ipython3",
   "version": "3.5.0"
  }
 },
 "nbformat": 4,
 "nbformat_minor": 2
}
