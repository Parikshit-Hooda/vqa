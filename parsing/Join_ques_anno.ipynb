{
 "cells": [
  {
   "cell_type": "code",
   "execution_count": 1,
   "metadata": {},
   "outputs": [],
   "source": [
    "import pandas as pd\n",
    "from sklearn.model_selection import train_test_split"
   ]
  },
  {
   "cell_type": "code",
   "execution_count": null,
   "metadata": {},
   "outputs": [],
   "source": [
    "#training\n",
    "anno_fname=\"../dataset/anno_train.csv\"\n",
    "ques_fname=\"../dataset/ques_train.csv\"\n",
    "join_fname=\"../dataset/train.csv\"\n",
    "df_anno=pd.read_csv(anno_fname)\n",
    "df_ques=pd.read_csv(ques_fname)\n",
    "df_join = pd.merge(df_ques, df_anno, on=['question_id','image_id'], how='inner')    \n",
    "df_join=df_join.drop('question_id', axis=1)\n",
    "df_join.to_csv(join_fname,index=False)"
   ]
  },
  {
   "cell_type": "code",
   "execution_count": null,
   "metadata": {},
   "outputs": [],
   "source": [
    "#validation and testing\n",
    "anno_fname=\"../dataset/anno_val.csv\"\n",
    "ques_fname=\"../dataset/ques_val.csv\"\n",
    "val_fname=\"../dataset/val.csv\"\n",
    "test_fname=\"../dataset/test.csv\"\n",
    "df_anno=pd.read_csv(anno_fname)\n",
    "df_ques=pd.read_csv(ques_fname)\n",
    "df_join = pd.merge(df_ques, df_anno, on=['question_id','image_id'], how='inner')    \n",
    "df_join=df_join.drop('question_id', axis=1)\n",
    "df_val, df_test = train_test_split(df_join, test_size=0.5)\n",
    "df_val.to_csv(val_fname,index=False)\n",
    "df_test.to_csv(test_fname,index=False)\n",
    "\n"
   ]
  }
 ],
 "metadata": {
  "kernelspec": {
   "display_name": "Python 3",
   "language": "python",
   "name": "python3"
  },
  "language_info": {
   "codemirror_mode": {
    "name": "ipython",
    "version": 3
   },
   "file_extension": ".py",
   "mimetype": "text/x-python",
   "name": "python",
   "nbconvert_exporter": "python",
   "pygments_lexer": "ipython3",
   "version": "3.5.0"
  }
 },
 "nbformat": 4,
 "nbformat_minor": 2
}
